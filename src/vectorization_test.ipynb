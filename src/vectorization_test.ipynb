{
 "cells": [
  {
   "cell_type": "code",
   "execution_count": 1,
   "metadata": {},
   "outputs": [],
   "source": [
    "import matplotlib.pyplot as plt\n",
    "import numpy as np\n",
    "\n",
    "from checking_tools import checkLabels, checkNormals\n",
    "from Trefft_tools import TrefftzSpace, TrefftzFunction\n",
    "from geometry_tools import Edge\n",
    "from meshes import testMesh, toyMesh, waveguideMesh\n"
   ]
  },
  {
   "cell_type": "code",
   "execution_count": 2,
   "metadata": {},
   "outputs": [],
   "source": [
    "R = 10.\n",
    "H = 1.\n",
    "rad = 0.2\n",
    "\n",
    "c = (0,0)\n",
    "\n",
    "quad = False\n",
    "\n",
    "Omega = testMesh( h_max= 2*H/3, quad=quad)\n"
   ]
  },
  {
   "cell_type": "code",
   "execution_count": 7,
   "metadata": {},
   "outputs": [],
   "source": [
    "E = Edges[0]"
   ]
  },
  {
   "cell_type": "code",
   "execution_count": null,
   "metadata": {},
   "outputs": [],
   "source": [
    "E."
   ]
  },
  {
   "cell_type": "code",
   "execution_count": 16,
   "metadata": {},
   "outputs": [],
   "source": [
    "Edges = [ Edge(Omega, e)  for e in Omega.edges ]\n",
    "\n",
    "\n",
    "def vector_Edges(Edges):\n",
    "    dt = np.dtype([(\"N\",np.float64,(2,)),(\"T\",np.float64,(2,)), (\"l\",np.float64), (\"M\",np.float64,(2,))])\n",
    "    vec_Edges = np.array( [ ( E.N, E.T, E.l, E.M) for E in Edges ], dtype=dt)\n",
    "    return vec_Edges\n",
    "\n",
    "\n",
    "\n",
    "vec_Edges = vector_Edges(Edges)"
   ]
  },
  {
   "cell_type": "code",
   "execution_count": 17,
   "metadata": {},
   "outputs": [
    {
     "data": {
      "text/plain": [
       "array([([ 0.        , -1.        ], [ 1.        ,  0.        ], 0.66666667, [ -9.66666667,  -1.        ]),\n",
       "       ([-1.        ,  0.        ], [ 0.        ,  1.        ], 0.66666667, [-10.        ,  -0.66666667]),\n",
       "       ([ 0.        , -1.        ], [-1.        ,  0.        ], 0.66666667, [  9.66666667,  -1.        ]),\n",
       "       ([ 1.        ,  0.        ], [ 0.        ,  1.        ], 0.66666667, [ 10.        ,  -0.66666667]),\n",
       "       ([-0.72473407, -0.68902868], [-0.68902868,  0.72473407], 0.68807679, [  9.76294768,  -0.75066365]),\n",
       "       ([ 1.        ,  0.        ], [ 0.        , -1.        ], 0.66666667, [ 10.        ,   0.66666667]),\n",
       "       ([ 0.        ,  1.        ], [-1.        ,  0.        ], 0.66666667, [  9.66666667,   1.        ]),\n",
       "       ([ 0.        ,  1.        ], [ 1.        ,  0.        ], 0.66666667, [ -9.66666667,   1.        ]),\n",
       "       ([-1.        ,  0.        ], [ 0.        , -1.        ], 0.66666667, [-10.        ,   0.66666667]),\n",
       "       ([ 0.80272196,  0.59635347], [ 0.59635347, -0.80272196], 0.85537788, [ -9.74494622,   0.6566847 ])],\n",
       "      dtype=[('N', '<f8', (2,)), ('T', '<f8', (2,)), ('l', '<f8'), ('M', '<f8', (2,))])"
      ]
     },
     "execution_count": 17,
     "metadata": {},
     "output_type": "execute_result"
    }
   ],
   "source": [
    "vec_Edges[:10]"
   ]
  },
  {
   "cell_type": "code",
   "execution_count": 19,
   "metadata": {},
   "outputs": [],
   "source": [
    "kappa_e = 20.\n",
    "kappa_i = 5.\n",
    "\n",
    "Nth = 20\n",
    "th = np.e/10\n",
    "V = TrefftzSpace(Omega, Nth, {\"Omega_i\" : kappa_i , \"Omega_e\" : kappa_e}, th )\n",
    "Phi = V.TrialFunctions\n"
   ]
  },
  {
   "cell_type": "code",
   "execution_count": 23,
   "metadata": {},
   "outputs": [],
   "source": [
    "def vector_Phi(Phi):\n",
    "    dt = np.dtype([(\"d\",np.float64,2), (\"k\",np.float64)])\n",
    "    vec_Phi = np.array( [ ( phi.d, phi.k) for phi in Phi ], dtype=dt)\n",
    "    return vec_Phi\n",
    "\n",
    "vec_Phi = vector_Phi(Phi)\n"
   ]
  },
  {
   "cell_type": "code",
   "execution_count": 27,
   "metadata": {},
   "outputs": [
    {
     "ename": "NameError",
     "evalue": "name 'd' is not defined",
     "output_type": "error",
     "traceback": [
      "\u001b[0;31m---------------------------------------------------------------------------\u001b[0m",
      "\u001b[0;31mNameError\u001b[0m                                 Traceback (most recent call last)",
      "Cell \u001b[0;32mIn[27], line 1\u001b[0m\n\u001b[0;32m----> 1\u001b[0m \u001b[43md\u001b[49m\n",
      "\u001b[0;31mNameError\u001b[0m: name 'd' is not defined"
     ]
    }
   ],
   "source": [
    "# I need a vec of sides, that is, a Nelem x 3 int array"
   ]
  },
  {
   "cell_type": "code",
   "execution_count": null,
   "metadata": {},
   "outputs": [],
   "source": []
  }
 ],
 "metadata": {
  "kernelspec": {
   "display_name": "UWVFTrefftz--hy3v2Qt",
   "language": "python",
   "name": "python3"
  },
  "language_info": {
   "codemirror_mode": {
    "name": "ipython",
    "version": 3
   },
   "file_extension": ".py",
   "mimetype": "text/x-python",
   "name": "python",
   "nbconvert_exporter": "python",
   "pygments_lexer": "ipython3",
   "version": "3.11.8"
  }
 },
 "nbformat": 4,
 "nbformat_minor": 2
}
