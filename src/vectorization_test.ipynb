{
 "cells": [
  {
   "cell_type": "code",
   "execution_count": 6,
   "metadata": {},
   "outputs": [],
   "source": [
    "import matplotlib.pyplot as plt\n",
    "import numpy as np\n",
    "\n",
    "from checking_tools import checkLabels, checkNormals\n",
    "from Trefft_tools import TrefftzSpace, TrefftzFunction\n",
    "from geometry_tools import Edge\n",
    "from meshes import testMesh, toyMesh, waveguideMesh\n"
   ]
  },
  {
   "cell_type": "code",
   "execution_count": 7,
   "metadata": {},
   "outputs": [],
   "source": [
    "R = 10.\n",
    "H = 1.\n",
    "rad = 0.2\n",
    "\n",
    "c = (0,0)\n",
    "\n",
    "quad = False\n",
    "\n",
    "Omega = testMesh( h_max= 2*H/3, quad=quad)\n"
   ]
  },
  {
   "cell_type": "code",
   "execution_count": 8,
   "metadata": {},
   "outputs": [],
   "source": [
    "Edges = [ Edge(Omega, e)  for e in Omega.edges ]\n",
    "\n",
    "edge_dt = np.dtype([(\"N\",np.float64,(2,)),(\"T\",np.float64,(2,)), (\"l\",np.float64), (\"M\",np.float64,(2,))])\n",
    "\n",
    "def vector_Edges(Edges):\n",
    "    vec_Edges = np.array( [ ( E.N, E.T, E.l, E.M) for E in Edges ], dtype=edge_dt)\n",
    "    return vec_Edges\n",
    "\n",
    "\n",
    "\n",
    "vec_Edges = vector_Edges(Edges)"
   ]
  },
  {
   "cell_type": "code",
   "execution_count": 10,
   "metadata": {},
   "outputs": [
    {
     "data": {
      "text/plain": [
       "array([([ 0.        , -1.        ], [ 1.        ,  0.        ], 0.66666667, [ -9.66666667,  -1.        ]),\n",
       "       ([-1.        ,  0.        ], [ 0.        ,  1.        ], 0.66666667, [-10.        ,  -0.66666667]),\n",
       "       ([ 0.        , -1.        ], [-1.        ,  0.        ], 0.66666667, [  9.66666667,  -1.        ]),\n",
       "       ([ 1.        ,  0.        ], [ 0.        ,  1.        ], 0.66666667, [ 10.        ,  -0.66666667]),\n",
       "       ([-0.72473407, -0.68902868], [-0.68902868,  0.72473407], 0.68807679, [  9.76294768,  -0.75066365]),\n",
       "       ([ 1.        ,  0.        ], [ 0.        , -1.        ], 0.66666667, [ 10.        ,   0.66666667]),\n",
       "       ([ 0.        ,  1.        ], [-1.        ,  0.        ], 0.66666667, [  9.66666667,   1.        ]),\n",
       "       ([ 0.        ,  1.        ], [ 1.        ,  0.        ], 0.66666667, [ -9.66666667,   1.        ]),\n",
       "       ([-1.        ,  0.        ], [ 0.        , -1.        ], 0.66666667, [-10.        ,   0.66666667]),\n",
       "       ([ 0.80272196,  0.59635347], [ 0.59635347, -0.80272196], 0.85537788, [ -9.74494622,   0.6566847 ])],\n",
       "      dtype=[('N', '<f8', (2,)), ('T', '<f8', (2,)), ('l', '<f8'), ('M', '<f8', (2,))])"
      ]
     },
     "execution_count": 10,
     "metadata": {},
     "output_type": "execute_result"
    }
   ],
   "source": [
    "vec_Edges[:10]"
   ]
  },
  {
   "cell_type": "code",
   "execution_count": 11,
   "metadata": {},
   "outputs": [],
   "source": [
    "kappa_e = 20.\n",
    "kappa_i = 5.\n",
    "\n",
    "Nth = 20\n",
    "th = np.e/10\n",
    "V = TrefftzSpace(Omega, Nth, {\"Omega_i\" : kappa_i , \"Omega_e\" : kappa_e}, th )\n",
    "Phi = V.TrialFunctions\n"
   ]
  },
  {
   "cell_type": "code",
   "execution_count": 12,
   "metadata": {},
   "outputs": [],
   "source": [
    "def vector_Phi(Phi):\n",
    "    dt = np.dtype([(\"d\",np.float64,2), (\"k\",np.float64)])\n",
    "    vec_Phi = np.array( [ ( phi.d, phi.k) for phi in Phi ], dtype=dt)\n",
    "    return vec_Phi\n",
    "\n",
    "vec_Phi = vector_Phi(Phi)\n"
   ]
  },
  {
   "cell_type": "code",
   "execution_count": 14,
   "metadata": {},
   "outputs": [
    {
     "data": {
      "text/plain": [
       "array([([ 0.96328165,  0.26849294], 20.),\n",
       "       ([ 0.83316641,  0.55302236], 20.),\n",
       "       ([ 0.62149504,  0.7834181 ], 20.),\n",
       "       ([ 0.3489874 ,  0.93712742], 20.),\n",
       "       ([ 0.04231844,  0.99910417], 20.),\n",
       "       ([-0.26849294,  0.96328165], 20.),\n",
       "       ([-0.55302236,  0.83316641], 20.),\n",
       "       ([-0.7834181 ,  0.62149504], 20.),\n",
       "       ([-0.93712742,  0.3489874 ], 20.),\n",
       "       ([-0.99910417,  0.04231844], 20.)],\n",
       "      dtype=[('d', '<f8', (2,)), ('k', '<f8')])"
      ]
     },
     "execution_count": 14,
     "metadata": {},
     "output_type": "execute_result"
    }
   ],
   "source": [
    "vec_Phi[:10]"
   ]
  },
  {
   "cell_type": "code",
   "execution_count": 13,
   "metadata": {},
   "outputs": [],
   "source": [
    "# I need a vec of sides, that is, a Nelem x 3 int array"
   ]
  },
  {
   "cell_type": "code",
   "execution_count": null,
   "metadata": {},
   "outputs": [],
   "source": []
  }
 ],
 "metadata": {
  "kernelspec": {
   "display_name": "UWVFTrefftz--hy3v2Qt",
   "language": "python",
   "name": "python3"
  },
  "language_info": {
   "codemirror_mode": {
    "name": "ipython",
    "version": 3
   },
   "file_extension": ".py",
   "mimetype": "text/x-python",
   "name": "python",
   "nbconvert_exporter": "python",
   "pygments_lexer": "ipython3",
   "version": "3.11.9"
  }
 },
 "nbformat": 4,
 "nbformat_minor": 2
}
