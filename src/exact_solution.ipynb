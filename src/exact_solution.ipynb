{
 "cells": [
  {
   "cell_type": "code",
   "execution_count": 1,
   "metadata": {},
   "outputs": [],
   "source": [
    "import numpy as np \n",
    "import matplotlib.pyplot as plt \n",
    "from scipy.special import jn, hankel1"
   ]
  },
  {
   "cell_type": "markdown",
   "metadata": {},
   "source": [
    "The exact solution can be computed with the virtual charges method. First we need the solution in free space for a circular scatter. "
   ]
  },
  {
   "cell_type": "markdown",
   "metadata": {},
   "source": [
    "## Sound-soft scatterer: \n",
    "Boundary value problem:\n",
    "$$\n",
    "\\begin{cases}\n",
    "\\Delta u^\\mathrm{sc} + k^2 u^\\mathrm{sc} = 0 & \\text{in }\\mathbb{R}^2\\setminus{\\overline{\\mathrm{B}(\\mathbf{c},R)}}\\\\\n",
    "u^\\mathrm{sc}=-u^\\mathrm{inc}&\\text{on }\\partial\\mathrm{B}(\\mathbf{c},R)\\\\\n",
    "\\frac{\\partial u^\\mathrm{sc}}{\\partial r} - iku^\\mathrm{sc} = o\\left(\\frac{1}{r}\\right)&\\text{as }r\\to\\infty.\n",
    "\\end{cases}\n",
    "$$\n",
    "whose solution can be expressed as:\n",
    "$$\n",
    "u^\\mathrm{sc}\\left(x,y\\right)=\\sum_{n=-\\infty}^\\infty u_n \\frac{H^1_n\\left(kr(x,y)\\right)}{H^1_n\\left(kR\\right)}e^{in(\\theta(x,y)-\\theta_0)}\n",
    "$$\n",
    "where\n",
    "$$\n",
    "r(x,y)=\\sqrt{(x-c_x)^2 +(y-c_y)^2},\\quad \\theta(x,y)=\\arctan\\left(\\frac{y-c_y}{x-c_x}\\right)\n",
    "$$\n",
    "are the polar coordinates centered at $\\mathbf{c}=c_x\\mathbf{i}+c_y\\mathbf{j}$."
   ]
  },
  {
   "cell_type": "markdown",
   "metadata": {},
   "source": [
    "Using the jacobi angers expansion for a plane wave:\n",
    "$$\n",
    "e^{iz\\cos(\\theta)}=\\sum_{n=-\\infty}^\\infty i^n J_n(z)e^{in\\theta}\n",
    "$$\n",
    "we have that:\n",
    "$$\n",
    "\\left\\vert u^\\mathrm{inc} \\right\\vert _{\\partial\\mathrm{B}(\\mathbf{c},R)}= \\left\\vert e^{ik\\mathbf{d}\\cdot\\mathbf{x}} \\right\\vert _{\\partial\\mathrm{B}(\\mathbf{c},R)}= e^{ikR\\cos(\\theta-\\theta^\\mathrm{inc})} = \\sum_{n=-\\infty}^\\infty i^n J_n(kR)e^{in(\\theta-\\theta^\\mathrm{inc})}\n",
    "$$\n",
    "where $\\theta^\\mathrm{inc}=\\arctan\\left(\\frac{d_y}{d_x}\\right)$. \n",
    "\n",
    "Applying the boundary condition on the scatterer we have that:\n",
    "$$\n",
    "\\sum_{n=-\\infty}^\\infty u_n e^{in(\\theta-\\theta_0)}\n",
    " = -\\sum_{n=-\\infty}^\\infty i^n J_n(kR)e^{in(\\theta-\\theta^\\mathrm{inc})}\n",
    "$$\n",
    "So, identifying term by term, we have that the solution is:\n",
    "$$\n",
    "u^\\mathrm{sc}\\left(x,y\\right)=-\\sum_{n=-\\infty}^\\infty i^n J_n(kR) \\frac{H^1_n\\left(kr(x,y)\\right)}{H^1_n\\left(kR\\right)}e^{in(\\theta(x,y)-\\theta_0)}\n",
    "$$\n"
   ]
  },
  {
   "cell_type": "code",
   "execution_count": null,
   "metadata": {},
   "outputs": [],
   "source": [
    "def DirichletScatterer(X, Y, k, R=1, c=(0,0), theta_inc=0, M = 10):\n",
    "    c_x, c_y = c\n",
    "    r = np.sqrt( (X-c_x)**2 + (Y-c_y)**2)\n",
    "    theta = np.arctan2(Y - c_y, X - c_x)\n",
    "    n = np.expand_dims(np.np.arange(-M,M+1),[1,2])\n",
    "    u =  1j**n * jn(n,k*R) / hankel1(n,k*R) * hankel1( n, k*r) * np.exp(1j*n*(theta - theta_inc))"
   ]
  }
 ],
 "metadata": {
  "kernelspec": {
   "display_name": "UWVFTrefftz--hy3v2Qt",
   "language": "python",
   "name": "python3"
  },
  "language_info": {
   "codemirror_mode": {
    "name": "ipython",
    "version": 3
   },
   "file_extension": ".py",
   "mimetype": "text/x-python",
   "name": "python",
   "nbconvert_exporter": "python",
   "pygments_lexer": "ipython3",
   "version": "3.11.7"
  }
 },
 "nbformat": 4,
 "nbformat_minor": 2
}
