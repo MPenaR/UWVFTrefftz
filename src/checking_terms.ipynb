{
 "cells": [
  {
   "cell_type": "code",
   "execution_count": 35,
   "metadata": {},
   "outputs": [],
   "source": [
    "from numpy import exp, dot, conj\n",
    "from numpy.linalg import norm\n",
    "import numpy as np \n",
    "import matplotlib.pyplot as plt\n",
    "from numpy import trapz as Int\n",
    "from collections import namedtuple"
   ]
  },
  {
   "cell_type": "markdown",
   "metadata": {},
   "source": [
    "# Inner terms"
   ]
  },
  {
   "cell_type": "markdown",
   "metadata": {},
   "source": [
    "First we are going to check the inner terms. There are $4$ situations:\n",
    " - $\\phi^+_n$ and $\\psi^+_m$: \n",
    "$$\n",
    "\\frac{1}{2}\\int_E \\phi_n\\overline{\\nabla \\psi_m\\cdot\\mathbf{n}}-\\nabla \\phi_n\\cdot\\mathbf{n}\\overline{\\psi_m}\\,\\mathrm{d}S_x+a\\dots+b\\dots\n",
    "$$\n",
    " - $\\phi^+_n$ and $\\psi^-_m$: \n",
    "$$\n",
    "-\\frac{1}{2}\\int_E \\phi_n\\overline{\\nabla \\psi_m\\cdot\\mathbf{n}}-\\nabla \\phi_n\\cdot\\mathbf{n}\\overline{\\psi_m}\\,\\mathrm{d}S_x+a\\dots+b\\dots\n",
    "$$\n",
    " - $\\phi^-_n$ and $\\psi^+_m$: \n",
    "$$\n",
    "\\frac{1}{2}\\int_E \\phi_n\\overline{\\nabla \\psi_m\\cdot\\mathbf{n}}-\\nabla \\phi_n\\cdot\\mathbf{n}\\overline{\\psi_m}\\,\\mathrm{d}S_x+a\\dots+b\\dots\n",
    "$$\n",
    " - $\\phi^-_n$ and $\\psi^-_m$: \n",
    "$$\n",
    "-\\frac{1}{2}\\int_E \\phi_n\\overline{\\nabla \\psi_m\\cdot\\mathbf{n}}-\\nabla \\phi_n\\cdot\\mathbf{n}\\overline{\\psi_m}\\,\\mathrm{d}S_x++a\\dots+b\\dots\n",
    "$$\n"
   ]
  },
  {
   "cell_type": "markdown",
   "metadata": {},
   "source": [
    "For checking the central fluxes only one expression needs to be checked: \n",
    "\n",
    "$$\n",
    "\\frac{1}{2}\\int_E \\varphi_n\\overline{\\nabla \\psi_m\\cdot\\mathbf{n}}-\\nabla \\varphi_n\\cdot\\mathbf{n}\\overline{\\psi_m}\\,\\mathrm{d}S_x\n",
    "$$\n",
    "\n",
    "Assuming $\\varphi_n(\\mathbf{x})=e^{ik\\mathbf{d}_n\\cdot\\mathbf{x}}$ and $\\psi_m(\\mathbf{x})=e^{ik\\mathbf{d}_m\\cdot\\mathbf{x}}$, the term above becomes:\n",
    "$$\n",
    "-ikl\\left(\\mathbf{d}_{m}+\\mathbf{d}_{n}\\right)\\cdot\\mathbf{n}\\frac{e^{ik\\left(\\mathbf{d}_{n}-\\mathbf{d}_{m}\\right)\\cdot\\mathbf{P}}}{2}\\qquad\\text{if}\\quad\\mathbf{d}_n\\cdot\\boldsymbol{\\tau}=\\mathbf{d}_m\\cdot\\boldsymbol{\\tau}\n",
    "$$\n",
    "$$\n",
    "-\\frac{\\left(\\mathbf{d}_{m}+\\mathbf{d}_{n}\\right)\\cdot\\mathbf{n}}{\\left(\\mathbf{d}_{n}-\\mathbf{d}_{m}\\right)\\cdot\\boldsymbol{\\tau}}\\frac{e^{ik\\left(\\mathbf{d}_{n}-\\mathbf{d}_{m}\\right)\\cdot\\mathbf{Q}}-e^{ik\\left(\\mathbf{d}_{n}-\\mathbf{d}_{m}\\right)\\cdot\\mathbf{P}}}{2}\\qquad\\text{otherwise}\n",
    "$$"
   ]
  },
  {
   "cell_type": "markdown",
   "metadata": {},
   "source": [
    "## Exact term"
   ]
  },
  {
   "cell_type": "code",
   "execution_count": 36,
   "metadata": {},
   "outputs": [],
   "source": [
    "def Inner_term_PP(phi, psi, edge, k, a, b):\n",
    "\n",
    "    d_m = psi.d\n",
    "    d_n = phi.d\n",
    "    \n",
    "    P = edge.P\n",
    "    Q = edge.Q\n",
    "    N = edge.N\n",
    "    T = edge.T\n",
    "\n",
    "    l = norm(Q-P)\n",
    "\n",
    "    tol = 1E-6\n",
    "\n",
    "    I = dot( d_m, N) + dot( d_n, N) + 2*b*dot( d_m, N)*dot( d_n, N) + 2*a\n",
    "\n",
    "\n",
    "    if np.isclose( dot(d_m,T), dot(d_n,T), tol) :\n",
    "        return -1/2*1j*k*l * I * exp(1j*k*dot(d_n - d_m, P))\n",
    "    else:\n",
    "        return -1/2*I/dot(d_n - d_m, T)*( exp(1j*k*dot(d_n - d_m, Q)) - exp(1j*k*dot(d_n - d_m, P)))"
   ]
  },
  {
   "cell_type": "markdown",
   "metadata": {},
   "source": [
    "## Numerical term (a,b=0)"
   ]
  },
  {
   "cell_type": "code",
   "execution_count": 54,
   "metadata": {},
   "outputs": [],
   "source": [
    "def num_inner( k, P, Q, N, d_n, d_m, a=0, b=0, Nt = 100):\n",
    "    Px, Py = P[0], P[1]\n",
    "    Qx, Qy = Q[0], Q[1]\n",
    "    l = norm(Q-P)\n",
    "    t = np.linspace(0,1,Nt)\n",
    "    x = P + np.outer(t,Q-P)\n",
    "    phi_n = exp(1j*k*dot(x,d_n))\n",
    "    psi_m = exp(1j*k*dot(x,d_m))\n",
    "    grad_phi_n_N = 1j*k*dot(N,d_n)*exp(1j*k*dot(x,d_n))\n",
    "    grad_psi_m_N = 1j*k*dot(N,d_m)*exp(1j*k*dot(x,d_m))\n",
    "\n",
    "    I = l/2*Int(phi_n*conj(grad_psi_m_N) - grad_phi_n_N*conj(psi_m), t)\n",
    "    I+= l*b*Int(1/(1j*k)*grad_phi_n_N * conj(grad_psi_m_N), t)\n",
    "    I-= l*a*Int(1j*k*phi_n*psi_m)\n",
    "\n",
    "\n",
    "    return I\n",
    "\n"
   ]
  },
  {
   "cell_type": "code",
   "execution_count": 55,
   "metadata": {},
   "outputs": [
    {
     "name": "stdout",
     "output_type": "stream",
     "text": [
      "I_exact: -0.3436025292439285-0.4749103401075868j\n",
      "I_num:   -0.3436024925856599-0.4749102894403498j\n",
      "Relative error: 1.07e-07\n"
     ]
    }
   ],
   "source": [
    "# Test\n",
    "P = np.array([0,0])\n",
    "Q = np.array([1,1])\n",
    "\n",
    "T = (Q - P)/norm(Q-P)\n",
    "N = np.array([-T[1], T[0]])\n",
    "\n",
    "Edge = namedtuple('Edge',['P','Q','N','T'])\n",
    "E = Edge(P,Q,N,T)\n",
    "\n",
    "\n",
    "k = 8.\n",
    "d_n = np.array([1,1])/norm([1,1])\n",
    "d_m = np.array([1,-1])/norm([1,-1])\n",
    "\n",
    "TestFunction = namedtuple('TestFunction',['d','k'])\n",
    "phi_n = TestFunction(d=d_n,k=k)\n",
    "psi_m = TestFunction(d=d_m,k=k)\n",
    "\n",
    "a = 0.5\n",
    "b = 0.5\n",
    "\n",
    "\n",
    "I_exact = Inner_term_PP(phi_n, psi_m, E, k, 0., 0.)\n",
    "I_num = num_inner( k, P, Q, N, d_n, d_m, a = a, b = b,  Nt=int(1E4))\n",
    "relative_error = abs(I_exact - I_num)/abs(I_exact)\n",
    "print(f'I_exact: {I_exact:.16f}\\nI_num:   {I_num:.16f}\\nRelative error: {relative_error :.2e}')"
   ]
  },
  {
   "cell_type": "code",
   "execution_count": null,
   "metadata": {},
   "outputs": [],
   "source": []
  }
 ],
 "metadata": {
  "kernelspec": {
   "display_name": "UWVFTrefftz--hy3v2Qt",
   "language": "python",
   "name": "python3"
  },
  "language_info": {
   "codemirror_mode": {
    "name": "ipython",
    "version": 3
   },
   "file_extension": ".py",
   "mimetype": "text/x-python",
   "name": "python",
   "nbconvert_exporter": "python",
   "pygments_lexer": "ipython3",
   "version": "3.11.7"
  }
 },
 "nbformat": 4,
 "nbformat_minor": 2
}
