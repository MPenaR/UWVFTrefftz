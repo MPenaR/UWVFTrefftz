{
 "cells": [
  {
   "cell_type": "code",
   "execution_count": 29,
   "metadata": {},
   "outputs": [],
   "source": [
    "from numpy import exp, dot, conj, sin, cos, sqrt, pi\n",
    "from numpy.linalg import norm\n",
    "import numpy as np \n",
    "import matplotlib.pyplot as plt\n",
    "from numpy import trapz as Int\n",
    "from collections import namedtuple"
   ]
  },
  {
   "cell_type": "markdown",
   "metadata": {},
   "source": [
    "# Inner terms"
   ]
  },
  {
   "cell_type": "markdown",
   "metadata": {},
   "source": [
    "First we are going to check the inner terms. There are $4$ situations:\n",
    " - $\\phi^+_n$ and $\\psi^+_m$: \n",
    "$$\n",
    "\\frac{1}{2}\\int_E \\phi_n\\overline{\\nabla \\psi_m\\cdot\\mathbf{n}}-\\nabla \\phi_n\\cdot\\mathbf{n}\\overline{\\psi_m}\\,\\mathrm{d}S_x+a\\dots+b\\dots\n",
    "$$\n",
    " - $\\phi^+_n$ and $\\psi^-_m$: \n",
    "$$\n",
    "-\\frac{1}{2}\\int_E \\phi_n\\overline{\\nabla \\psi_m\\cdot\\mathbf{n}}-\\nabla \\phi_n\\cdot\\mathbf{n}\\overline{\\psi_m}\\,\\mathrm{d}S_x+a\\dots+b\\dots\n",
    "$$\n",
    " - $\\phi^-_n$ and $\\psi^+_m$: \n",
    "$$\n",
    "\\frac{1}{2}\\int_E \\phi_n\\overline{\\nabla \\psi_m\\cdot\\mathbf{n}}-\\nabla \\phi_n\\cdot\\mathbf{n}\\overline{\\psi_m}\\,\\mathrm{d}S_x+a\\dots+b\\dots\n",
    "$$\n",
    " - $\\phi^-_n$ and $\\psi^-_m$: \n",
    "$$\n",
    "-\\frac{1}{2}\\int_E \\phi_n\\overline{\\nabla \\psi_m\\cdot\\mathbf{n}}-\\nabla \\phi_n\\cdot\\mathbf{n}\\overline{\\psi_m}\\,\\mathrm{d}S_x++a\\dots+b\\dots\n",
    "$$\n"
   ]
  },
  {
   "cell_type": "markdown",
   "metadata": {},
   "source": [
    "For checking the central fluxes only one expression needs to be checked: \n",
    "\n",
    "$$\n",
    "\\frac{1}{2}\\int_E \\varphi_n\\overline{\\nabla \\psi_m\\cdot\\mathbf{n}}-\\nabla \\varphi_n\\cdot\\mathbf{n}\\overline{\\psi_m}\\,\\mathrm{d}S_x\n",
    "$$\n",
    "\n",
    "Assuming $\\varphi_n(\\mathbf{x})=e^{ik\\mathbf{d}_n\\cdot\\mathbf{x}}$ and $\\psi_m(\\mathbf{x})=e^{ik\\mathbf{d}_m\\cdot\\mathbf{x}}$, the term above becomes:\n",
    "$$\n",
    "-ikl\\left(\\mathbf{d}_{m}+\\mathbf{d}_{n}\\right)\\cdot\\mathbf{n}\\frac{e^{ik\\left(\\mathbf{d}_{n}-\\mathbf{d}_{m}\\right)\\cdot\\mathbf{P}}}{2}\\qquad\\text{if}\\quad\\mathbf{d}_n\\cdot\\boldsymbol{\\tau}=\\mathbf{d}_m\\cdot\\boldsymbol{\\tau}\n",
    "$$\n",
    "$$\n",
    "-\\frac{\\left(\\mathbf{d}_{m}+\\mathbf{d}_{n}\\right)\\cdot\\mathbf{n}}{\\left(\\mathbf{d}_{n}-\\mathbf{d}_{m}\\right)\\cdot\\boldsymbol{\\tau}}\\frac{e^{ik\\left(\\mathbf{d}_{n}-\\mathbf{d}_{m}\\right)\\cdot\\mathbf{Q}}-e^{ik\\left(\\mathbf{d}_{n}-\\mathbf{d}_{m}\\right)\\cdot\\mathbf{P}}}{2}\\qquad\\text{otherwise}\n",
    "$$"
   ]
  },
  {
   "cell_type": "markdown",
   "metadata": {},
   "source": [
    "## Exact term"
   ]
  },
  {
   "cell_type": "code",
   "execution_count": 30,
   "metadata": {},
   "outputs": [],
   "source": [
    "def Inner_term_PP(phi, psi, edge, k, a, b):\n",
    "\n",
    "    d_m = psi.d\n",
    "    d_n = phi.d\n",
    "    \n",
    "    P = edge.P\n",
    "    Q = edge.Q\n",
    "    N = edge.N\n",
    "    T = edge.T\n",
    "\n",
    "    l = norm(Q-P)\n",
    "\n",
    "    tol = 1E-6\n",
    "\n",
    "    I = dot( d_m, N) + dot( d_n, N) + 2*b*dot( d_m, N)*dot( d_n, N) + 2*a\n",
    "\n",
    "\n",
    "    if np.isclose( dot(d_m,T), dot(d_n,T), tol) :\n",
    "        return -1/2*1j*k*l * I * exp(1j*k*dot(d_n - d_m, P))\n",
    "    else:\n",
    "        return -1/2*I/dot(d_n - d_m, T)*( exp(1j*k*dot(d_n - d_m, Q)) - exp(1j*k*dot(d_n - d_m, P)))"
   ]
  },
  {
   "cell_type": "markdown",
   "metadata": {},
   "source": [
    "## Numerical term"
   ]
  },
  {
   "cell_type": "code",
   "execution_count": 31,
   "metadata": {},
   "outputs": [],
   "source": [
    "def num_inner( k, P, Q, N, d_n, d_m, a=0, b=0, Nt = 100):\n",
    "    Px, Py = P[0], P[1]\n",
    "    Qx, Qy = Q[0], Q[1]\n",
    "    l = norm(Q-P)\n",
    "    t = np.linspace(0,1,Nt)\n",
    "    x = P + np.outer(t,Q-P)\n",
    "    phi_n = exp(1j*k*dot(x,d_n))\n",
    "    psi_m = exp(1j*k*dot(x,d_m))\n",
    "    grad_phi_n_N = 1j*k*dot(N,d_n)*exp(1j*k*dot(x,d_n))\n",
    "    grad_psi_m_N = 1j*k*dot(N,d_m)*exp(1j*k*dot(x,d_m))\n",
    "\n",
    "    I = l/2*Int(phi_n*conj(grad_psi_m_N) - grad_phi_n_N*conj(psi_m), t)\n",
    "    I+= l*b*Int(1/(1j*k)*grad_phi_n_N * conj(grad_psi_m_N), t)\n",
    "    I-= l*a*Int(1j*k*phi_n*conj(psi_m),t)\n",
    "\n",
    "\n",
    "    return I\n",
    "\n"
   ]
  },
  {
   "cell_type": "markdown",
   "metadata": {},
   "source": [
    "### They check"
   ]
  },
  {
   "cell_type": "code",
   "execution_count": 32,
   "metadata": {},
   "outputs": [
    {
     "name": "stdout",
     "output_type": "stream",
     "text": [
      "I_exact: 1.1287634926470429-1.5279169728505901j\n",
      "I_num:   1.1287630109449096-1.5279163208088908j\n",
      "Relative error: 4.27e-07\n"
     ]
    }
   ],
   "source": [
    "# Test\n",
    "P = np.array([3,3])\n",
    "Q = np.array([1,1])\n",
    "\n",
    "T = (Q - P)/norm(Q-P)\n",
    "N = np.array([-T[1], T[0]])\n",
    "\n",
    "Edge = namedtuple('Edge',['P','Q','N','T'])\n",
    "E = Edge(P,Q,N,T)\n",
    "\n",
    "\n",
    "k = 8.\n",
    "d_n = np.array([1,1])/norm([1,1])\n",
    "d_m = np.array([1,-1])/norm([1,-1])\n",
    "\n",
    "TestFunction = namedtuple('TestFunction',['d','k'])\n",
    "phi_n = TestFunction(d=d_n,k=k)\n",
    "psi_m = TestFunction(d=d_m,k=k)\n",
    "\n",
    "a = 0.5\n",
    "b = 0.5\n",
    "\n",
    "\n",
    "I_exact = Inner_term_PP(phi_n, psi_m, E, k, a, b)\n",
    "I_num = num_inner( k, P, Q, N, d_n, d_m, a = a, b = b,  Nt=int(1E4))\n",
    "relative_error = abs(I_exact - I_num)/abs(I_exact)\n",
    "print(f'I_exact: {I_exact:.16f}\\nI_num:   {I_num:.16f}\\nRelative error: {relative_error :.2e}')"
   ]
  },
  {
   "cell_type": "markdown",
   "metadata": {},
   "source": [
    "# Gamma terms"
   ]
  },
  {
   "cell_type": "code",
   "execution_count": 33,
   "metadata": {},
   "outputs": [],
   "source": [
    "def Gamma_term(phi, psi, edge, k, d_1):\n",
    "\n",
    "    d_m = psi.d\n",
    "    d_n = phi.d\n",
    "    \n",
    "    P = edge.P\n",
    "    Q = edge.Q\n",
    "    N = edge.N\n",
    "    T = edge.T\n",
    "\n",
    "    l = norm(Q-P)\n",
    "\n",
    "    I = (1 + d_1 * dot(d_n, N))*dot(d_m, N)\n",
    "\n",
    "    if np.isclose( dot(d_m,T), dot(d_n,T), 1E-3) :\n",
    "        return -1j*k*l* I * exp(1j*k*dot(d_n - d_m, P))\n",
    "    else:\n",
    "        return -I / dot(d_n - d_m, T) * ( exp(1j*k*dot(d_n - d_m, Q)) - exp(1j*k*dot(d_n - d_m, P)))"
   ]
  },
  {
   "cell_type": "code",
   "execution_count": 34,
   "metadata": {},
   "outputs": [],
   "source": [
    "def num_Gamma( k, P, Q, N, d_n, d_m, d1=0, Nt = 100):\n",
    "    Px, Py = P[0], P[1]\n",
    "    Qx, Qy = Q[0], Q[1]\n",
    "    l = norm(Q-P)\n",
    "    t = np.linspace(0,1,Nt)\n",
    "    x = P + np.outer(t,Q-P)\n",
    "    phi_n = exp(1j*k*dot(x,d_n))\n",
    "    psi_m = exp(1j*k*dot(x,d_m))\n",
    "    grad_phi_n_N = 1j*k*dot(N,d_n)*exp(1j*k*dot(x,d_n))\n",
    "    grad_psi_m_N = 1j*k*dot(N,d_m)*exp(1j*k*dot(x,d_m))\n",
    "\n",
    "    I = Int( (phi_n + d1/(1j*k)*grad_phi_n_N)*conj(grad_psi_m_N)*l, t)\n",
    "    return I"
   ]
  },
  {
   "cell_type": "markdown",
   "metadata": {},
   "source": [
    "### They check"
   ]
  },
  {
   "cell_type": "code",
   "execution_count": 35,
   "metadata": {},
   "outputs": [
    {
     "name": "stdout",
     "output_type": "stream",
     "text": [
      "I_exact: 21.8179155346838805+7.1850758314109182j\n",
      "I_num:   21.8179155346838876+7.1850758314109191j\n",
      "Relative error: 3.12e-16\n"
     ]
    }
   ],
   "source": [
    "P = np.array([0,1])\n",
    "Q = np.array([3,1])\n",
    "\n",
    "T = (Q - P)/norm(Q-P)\n",
    "N = np.array([0,1])\n",
    "\n",
    "Edge = namedtuple('Edge',['P','Q','N','T'])\n",
    "E = Edge(P,Q,N,T)\n",
    "\n",
    "\n",
    "d1 = 0.5\n",
    "I_exact = Gamma_term(phi_n, psi_m, E, k, d1)\n",
    "I_num = num_Gamma( k, P, Q, N, d_n, d_m, d1=d1,  Nt=int(1E4))\n",
    "relative_error = abs(I_exact - I_num)/abs(I_exact)\n",
    "print(f'I_exact: {I_exact:.16f}\\nI_num:   {I_num:.16f}\\nRelative error: {relative_error :.2e}')"
   ]
  },
  {
   "cell_type": "markdown",
   "metadata": {},
   "source": [
    "# Sigma Terms"
   ]
  },
  {
   "cell_type": "code",
   "execution_count": 36,
   "metadata": {},
   "outputs": [],
   "source": [
    "def Sigma_term(phi, psi, edge, k, H, d_2, Np = 15):\n",
    "\n",
    "    d_n = phi.d\n",
    "    d_m = psi.d\n",
    "\n",
    "    d_mx = d_m[0]\n",
    "    d_my = d_m[1]\n",
    "    d_nx = d_n[0]\n",
    "    d_ny = d_n[1]\n",
    "    \n",
    "\n",
    "\n",
    "    kH = k*H\n",
    "    \n",
    "    P = edge.P \n",
    "    N = edge.N\n",
    "    x  = P[0]/H\n",
    "\n",
    "    d_nN = dot(d_n,N)\n",
    "    d_mN = dot(d_m,N)\n",
    "    \n",
    "    #first-like terms\n",
    "    I1 = -2*1j*kH*exp(1j*(d_nx-d_mx)*kH*x)*((1-d_2)*d_mN*d_nN + d_2*(d_mN + d_nN))\n",
    "\n",
    "    if np.isclose(d_ny, 0, 1E-3) and np.isclose(d_my, 0, 1E-3):\n",
    "        F = I1\n",
    "    elif np.isclose(d_ny, 0, 1E-3):\n",
    "        F = I1 * sin(d_my*kH) / (d_my*kH)\n",
    "    elif np.isclose(d_my, 0, 1E-3):\n",
    "        F =  I1 * sin(d_ny*kH) / (d_ny*kH)\n",
    "    else:\n",
    "        I2 = -1j*kH*exp(1j*(d_nx-d_mx)*kH*x)*(1-d_2)*d_mN*d_nN * \\\n",
    "              sum([kH/sqrt(complex(kH**2 - (s*pi)**2)) * (sin(d_ny*kH+s*pi)/(d_ny*kH+s*pi) + sin(d_ny*kH-s*pi)/(d_ny*kH-s*pi)) \n",
    "                                                       * (sin(d_my*kH+s*pi)/(d_my*kH+s*pi) + sin(d_my*kH-s*pi)/(d_my*kH-s*pi))  \n",
    "                                                         for s in range(1,Np)])\n",
    "        \n",
    "        F  = I1 * sin(d_my*kH) / (d_my*kH) * sin(d_ny*kH) / (d_ny*kH) + I2\n",
    "\n",
    "    #second-like terms\n",
    "        \n",
    "    I = -2*1j*kH*(d_nN-d_2)*exp(1j*(d_nx-d_mx)*kH*x)\n",
    "    if np.isclose(d_ny, d_my, 1E-3):\n",
    "        S = I *exp(1j*(d_ny-d_my)*kH)\n",
    "    else:\n",
    "        S = I * sin((d_ny-d_my)*kH) / ((d_ny-d_my)*kH)  \n",
    "\n",
    "    return F+S, F , S"
   ]
  },
  {
   "cell_type": "code",
   "execution_count": 51,
   "metadata": {},
   "outputs": [],
   "source": [
    "def NewmanntoDirichlet(y, df_dy, k, H, M):\n",
    "\n",
    "    dfn = np.zeros(M, dtype=np.complex128)\n",
    "    dfn[0] = Int( df_dy*1/sqrt(2*H), y )\n",
    "    for n in range(1,M):\n",
    "        dfn[n] = Int( df_dy*cos(n*pi*y/H)/sqrt(H), y )\n",
    "    \n",
    "    f_y = 1/(1j*k)*dfn[0]/sqrt(2*H)*np.ones_like(y) + sum([ 1/(1j*sqrt(complex(k**2 - (n*pi/H)**2)))*dfn[n]*cos(n*pi*y/H)/sqrt(H) for n in range(1,M)])\n",
    "    return f_y\n",
    "\n",
    "\n",
    "def num_Sigma( k, P, Q, N, H, d_n, d_m, d2=0, Nt = 100, Np=15):\n",
    "    Px, Py = P[0], P[1]\n",
    "    Qx, Qy = Q[0], Q[1]\n",
    "    l = norm(Q-P)\n",
    "    t = np.linspace(0,1,Nt)\n",
    "    x = P + np.outer(t,Q-P)\n",
    "    phi_n = exp(1j*k*dot(x,d_n))\n",
    "    psi_m = exp(1j*k*dot(x,d_m))\n",
    "    grad_phi_n_N = 1j*k*dot(N,d_n)*exp(1j*k*dot(x,d_n))\n",
    "    grad_psi_m_N = 1j*k*dot(N,d_m)*exp(1j*k*dot(x,d_m))\n",
    "\n",
    "    N_gradphi_n = NewmanntoDirichlet(x[:,1], grad_phi_n_N, k, H, Np)\n",
    "    N_gradpsi_m = NewmanntoDirichlet(x[:,1], grad_psi_m_N, k, H, Np)\n",
    "\n",
    "    I = Int( N_gradphi_n*conj(grad_psi_m_N) - grad_phi_n_N*conj(psi_m), t)*l\n",
    "    I+= -d2*1j*k*Int((N_gradphi_n - phi_n)*conj(N_gradpsi_m - psi_m), t)*l\n",
    "    return I"
   ]
  },
  {
   "cell_type": "code",
   "execution_count": 52,
   "metadata": {},
   "outputs": [
    {
     "name": "stdout",
     "output_type": "stream",
     "text": [
      "I_exact: 0.0501948142170043+3.0573692527791052j\n",
      "I_num:   0.2423621205295926+11.6150236297129492j\n",
      "Relative error: 2.80e+00\n"
     ]
    }
   ],
   "source": [
    "H=1\n",
    "R= 10\n",
    "P = np.array([R,-H])\n",
    "Q = np.array([R,H])\n",
    "\n",
    "T = (Q - P)/norm(Q-P)\n",
    "N = np.array([0,1])\n",
    "\n",
    "Edge = namedtuple('Edge',['P','Q','N','T'])\n",
    "E = Edge(P,Q,N,T)\n",
    "\n",
    "\n",
    "d2 = 0.5\n",
    "I_exact, _, _ = Sigma_term(phi_n, psi_m, E, k, H, d2)\n",
    "I_num = num_Sigma( k, P, Q, N, H, d_n, d_m, d2=d2,  Nt=int(1E4))\n",
    "relative_error = abs(I_exact - I_num)/abs(I_exact)\n",
    "print(f'I_exact: {I_exact:.16f}\\nI_num:   {I_num:.16f}\\nRelative error: {relative_error :.2e}')"
   ]
  },
  {
   "cell_type": "code",
   "execution_count": null,
   "metadata": {},
   "outputs": [],
   "source": []
  }
 ],
 "metadata": {
  "kernelspec": {
   "display_name": "UWVFTrefftz--hy3v2Qt",
   "language": "python",
   "name": "python3"
  },
  "language_info": {
   "codemirror_mode": {
    "name": "ipython",
    "version": 3
   },
   "file_extension": ".py",
   "mimetype": "text/x-python",
   "name": "python",
   "nbconvert_exporter": "python",
   "pygments_lexer": "ipython3",
   "version": "3.11.7"
  }
 },
 "nbformat": 4,
 "nbformat_minor": 2
}
