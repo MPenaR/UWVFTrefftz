{
 "cells": [
  {
   "cell_type": "code",
   "execution_count": null,
   "id": "7d743c22",
   "metadata": {},
   "outputs": [],
   "source": [
    "import numpy as np\n",
    "from paper_plots import plot_hp_convergence\n",
    "import matplotlib.pyplot as plt"
   ]
  },
  {
   "cell_type": "code",
   "execution_count": null,
   "id": "fb5b97ae",
   "metadata": {},
   "outputs": [],
   "source": [
    "saved_file = np.load('fundamental_outside8.npz')"
   ]
  },
  {
   "cell_type": "code",
   "execution_count": null,
   "id": "b4ea411d",
   "metadata": {},
   "outputs": [],
   "source": [
    "errors = saved_file[\"errors\"]\n",
    "hs = saved_file[\"hs\"]\n",
    "N_ths = saved_file[\"N_ths\"]"
   ]
  },
  {
   "cell_type": "code",
   "execution_count": null,
   "id": "5b8f47cc",
   "metadata": {
    "lines_to_next_cell": 2
   },
   "outputs": [],
   "source": [
    "H = 1.\n",
    "kappa_e = 8\n",
    "N_modes = 15\n",
    "title = f'Fundamental solution as incident field with no scatterer.\\n $\\\\kappa={kappa_e}$, $H = {H:.0f}$, $R = \\\\lambda$, $M={N_modes}$ modes for de NtD map'"
   ]
  },
  {
   "cell_type": "code",
   "execution_count": null,
   "id": "1e893891",
   "metadata": {},
   "outputs": [],
   "source": [
    "plot_hp_convergence(errors=errors,hs=hs, N_ths=N_ths, kappa_e=kappa_e,N_modes=N_modes,H=H, title=title, filename=f'fundamental_ouside_{int(kappa_e)}.pdf')\n",
    "plt.show()"
   ]
  }
 ],
 "metadata": {
  "jupytext": {
   "cell_metadata_filter": "-all",
   "main_language": "python",
   "notebook_metadata_filter": "-all"
  }
 },
 "nbformat": 4,
 "nbformat_minor": 5
}
