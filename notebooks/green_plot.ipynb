{
 "cells": [
  {
   "cell_type": "code",
   "execution_count": null,
   "id": "1e48d0a5",
   "metadata": {
    "lines_to_next_cell": 1
   },
   "outputs": [],
   "source": [
    "import matplotlib.pyplot as plt\n",
    "import numpy as np \n",
    "from paper_plots import plot_hp_convergence\n",
    "from scipy.stats import linregress"
   ]
  },
  {
   "cell_type": "code",
   "execution_count": null,
   "id": "4d4cd385",
   "metadata": {},
   "outputs": [],
   "source": [
    "def add_trend_line(IDs: list[int], xs, ys, errors, k, hs, ax):\n",
    "    for ID, x, y in zip(IDs, xs, ys):\n",
    "        result = linregress(np.log(k*hs), np.log(errors[:, ID]))\n",
    "        m = result.slope\n",
    "        n = result.intercept\n",
    "        ax.plot(k*hs, 0.5*np.exp(n)*(k*hs)**m, '--k')\n",
    "        ax.text(x,y,f'$\\\\propto (kh)^{{{m : .1f}}}$')"
   ]
  },
  {
   "cell_type": "code",
   "execution_count": null,
   "id": "72057261",
   "metadata": {},
   "outputs": [],
   "source": [
    "kappa_e = 8.\n",
    "N_modes = 15\n",
    "H = 1."
   ]
  },
  {
   "cell_type": "code",
   "execution_count": null,
   "id": "7f052903",
   "metadata": {},
   "outputs": [],
   "source": [
    "data = np.load('./green_original.npz')\n",
    "errors = data['errors']\n",
    "hs = data['hs']\n",
    "N_ths = data['N_ths']"
   ]
  },
  {
   "cell_type": "code",
   "execution_count": null,
   "id": "f81309bb",
   "metadata": {},
   "outputs": [],
   "source": []
  },
  {
   "cell_type": "code",
   "execution_count": null,
   "id": "f9bfeb5f",
   "metadata": {},
   "outputs": [],
   "source": [
    "ax = plot_hp_convergence(errors=errors, hs=hs, N_ths=N_ths, kappa_e=kappa_e, N_modes=N_modes, H=H)\n",
    "add_trend_line(IDs=[2,5],xs = [1,1.8], ys=[2E-3, 1E-7], errors=errors, k=kappa_e, hs=hs, ax = ax[1] )\n",
    "plt.savefig('./with_slopes_correct.pdf')"
   ]
  }
 ],
 "metadata": {
  "jupytext": {
   "cell_metadata_filter": "-all",
   "main_language": "python",
   "notebook_metadata_filter": "-all"
  }
 },
 "nbformat": 4,
 "nbformat_minor": 5
}
